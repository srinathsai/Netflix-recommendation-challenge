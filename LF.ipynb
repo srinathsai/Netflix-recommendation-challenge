{
  "nbformat": 4,
  "nbformat_minor": 0,
  "metadata": {
    "colab": {
      "provenance": [],
      "collapsed_sections": []
    },
    "kernelspec": {
      "name": "python3",
      "display_name": "Python 3"
    },
    "language_info": {
      "name": "python"
    }
  },
  "cells": [
    {
      "cell_type": "markdown",
      "source": [
        "By Srinath Sai Tripuraneni- A20338902."
      ],
      "metadata": {
        "id": "T6A1buDJE57y"
      }
    },
    {
      "cell_type": "code",
      "execution_count": 1,
      "metadata": {
        "colab": {
          "base_uri": "https://localhost:8080/"
        },
        "id": "_yiOXVxXUaSK",
        "outputId": "0ae20b53-da24-491b-bd01-b13938331132"
      },
      "outputs": [
        {
          "output_type": "stream",
          "name": "stdout",
          "text": [
            "Looking in indexes: https://pypi.org/simple, https://us-python.pkg.dev/colab-wheels/public/simple/\n",
            "Requirement already satisfied: pyspark in /usr/local/lib/python3.7/dist-packages (3.3.1)\n",
            "Requirement already satisfied: py4j==0.10.9.5 in /usr/local/lib/python3.7/dist-packages (from pyspark) (0.10.9.5)\n"
          ]
        }
      ],
      "source": [
        "!pip install pyspark #installing pyspark because I used pyspark for data filteration."
      ]
    },
    {
      "cell_type": "code",
      "source": [
        "from pyspark import SparkContext, SparkConf\n",
        "import numpy as np                          #importing necessary libraries and functions.\n",
        "import matplotlib.pyplot as plt        "
      ],
      "metadata": {
        "id": "8xbmKd4fYXRU"
      },
      "execution_count": 2,
      "outputs": []
    },
    {
      "cell_type": "code",
      "source": [
        "sc = SparkContext(\"local\",\"Assignment-4: LF Model reccomendation\") #initializing spark context "
      ],
      "metadata": {
        "id": "9YyTRPHhY3bb"
      },
      "execution_count": 3,
      "outputs": []
    },
    {
      "cell_type": "code",
      "source": [
        "trainRDD=sc.textFile('/content/training_dataset.csv').map(lambda x:x.split(\",\")) #as our datasets are in csv formatting splitting based on comma with the help of map function.\n"
      ],
      "metadata": {
        "id": "W1p5WGyWOYZq"
      },
      "execution_count": 4,
      "outputs": []
    },
    {
      "cell_type": "code",
      "source": [
        "def take_required(x):\n",
        "  required=[]\n",
        "  required.append(x[0])\n",
        "  required.append(x[1])  #Actually our dataset contains movie names also but for rmse that column is not required so filtering only first 3 functions.\n",
        "  required.append(x[2])  #and this function is ownly defined to select first 3 columns.\n",
        "  return required"
      ],
      "metadata": {
        "id": "2Hj6gV9kQpSQ"
      },
      "execution_count": 5,
      "outputs": []
    },
    {
      "cell_type": "code",
      "source": [
        "trainRDD=trainRDD.map(lambda x : take_required(x)) #mapping every value by calling above defined function."
      ],
      "metadata": {
        "id": "nlZX9z8pQ-0d"
      },
      "execution_count": 6,
      "outputs": []
    },
    {
      "cell_type": "code",
      "source": [
        "trainRDD=trainRDD.filter(lambda x : x[0]!='user_id') #in our csv file we get heading specifying which column is what. That headings are not required so filtering heading row."
      ],
      "metadata": {
        "id": "i-D_u1OJRP84"
      },
      "execution_count": 7,
      "outputs": []
    },
    {
      "cell_type": "code",
      "source": [
        "def make_int(x):\n",
        "  ans=[]\n",
        "  for y in x :\n",
        "    ans.append(int(y))  #while reading into rdd,it read as text format. so this function is created to convert every row into int append them and will be sent as list.\n",
        "  return ans"
      ],
      "metadata": {
        "id": "I-VJEe10SH4z"
      },
      "execution_count": 8,
      "outputs": []
    },
    {
      "cell_type": "code",
      "source": [
        "trainRDD=trainRDD.map(lambda x : make_int(x)) #calling above function which converts every row into int and as a list ,so basically this\n",
        "#is a rdd of list of list containg training dataset information.\n"
      ],
      "metadata": {
        "id": "XY7WQDDPSvfC"
      },
      "execution_count": 9,
      "outputs": []
    },
    {
      "cell_type": "code",
      "source": [
        "userRDD=trainRDD.map(lambda x : (x[0])) #as first column is users taking first column from trainrdd with the help of map function.\n",
        "itemsRDD=trainRDD.map(lambda x: (x[1])) #as second column is items, taking second column from trainrdd with the help of map function.\n",
        "#why this step , you will understand in few minutes."
      ],
      "metadata": {
        "id": "yX4DXzzXTiV_"
      },
      "execution_count": 10,
      "outputs": []
    },
    {
      "cell_type": "code",
      "source": [
        "max_users=userRDD.max() #extracting maximum user count means that many users are there in the given dataset at maximum.\n",
        "max_items=itemsRDD.max() #extracting maximum items from items rdd means given dataset has that many items at maximum."
      ],
      "metadata": {
        "id": "TZQIi8cdVgyu"
      },
      "execution_count": 11,
      "outputs": []
    },
    {
      "cell_type": "code",
      "source": [
        "users=set(userRDD.collect())# taking unique users.\n",
        "items=set(itemsRDD.collect()) #taking unique items."
      ],
      "metadata": {
        "id": "kjdX5ovzQgjU"
      },
      "execution_count": 12,
      "outputs": []
    },
    {
      "cell_type": "code",
      "source": [
        "traindata=np.array(trainRDD.collect()) #converting trainRDD as numpy array for calculating."
      ],
      "metadata": {
        "id": "wi10BsJJQ4lC"
      },
      "execution_count": 13,
      "outputs": []
    },
    {
      "cell_type": "code",
      "source": [
        "del trainRDD   \n",
        "del userRDD   #deleting all rdds for memory effiency and after converting to numpy array, we won't be using rdds therefore deleting them.\n",
        "del itemsRDD\n"
      ],
      "metadata": {
        "id": "YELzrQ1YRRKG"
      },
      "execution_count": 14,
      "outputs": []
    },
    {
      "cell_type": "code",
      "source": [
        "k=25 #given k for P and Q matrices as other dimension.\n",
        "lamda =0.1 #given lamda.\n",
        "iterations=40 # given iteration count.\n",
        "learning_rate=0.002 #this is the challenging factor, as hyper parameter tunning is not allowed, did trial and error process many times and finally got better result of all values which is 0.002.\n",
        "P = np.random.rand(max_users,k)*(np.sqrt(5/k))\n",
        "Q = np.random.rand(max_items,k)*(np.sqrt(5/k))  #initialing P and Q matrices randomly with dimensions of max_users obtained above and max_items obtained above from 2 rdds.And values in\n",
        "#range 0,rootof 5/k.\n",
        "#link referedd fro intialing random numpy valuse:-\n",
        "#https://stackoverflow.com/questions/26456180/initializing-a-matrix-with-random-number-from-given-range-python"
      ],
      "metadata": {
        "id": "UH9PIlS3kPxO"
      },
      "execution_count": 15,
      "outputs": []
    },
    {
      "cell_type": "code",
      "source": [
        "def regularization(): #this function is created to compute regularization for every iteration.\n",
        "  p_norm=0            #this function will return user_norm and items_norm.\n",
        "  q_norm=0\n",
        "  for i in P:\n",
        "    for j in i:\n",
        "      p_norm+=(j*j)   #this nested loop calculates user_norm by row wise of P matrix(dedicated to users.)\n",
        "  for x in Q:\n",
        "    for y in x:\n",
        "      q_norm+=(y*y) #this nested loops calculates items_norm by row wise of Q matrix(dedicated to items).\n",
        "  return p_norm,q_norm"
      ],
      "metadata": {
        "id": "n0U1Jz6j_ZOJ"
      },
      "execution_count": 16,
      "outputs": []
    },
    {
      "cell_type": "code",
      "source": [
        "def calculating_error(): #A function that is used for calculating error for every function.\n",
        "  error_part=0\n",
        "  for x in traindata:\n",
        "    error_part+=pow((x[2]-np.dot(P[x[0]-1],Q[x[1]-1])),2) #here x[2] is orginal rating from numpy array of traindata and np.dot(P[x[0]-1],Q[x[1]-1]) is the product of value from P and Q for each row.\n",
        "  users_norm,items_norm=regularization() #calling regularization function to prevent overfitting.\n",
        "  error=error_part+(lamda*users_norm)+(lamda*items_norm) #adding lamda* norms obtained above as shown in main formula.\n",
        "  return error #main error with regularization is returned.\n"
      ],
      "metadata": {
        "id": "iQJZOig6QYGB"
      },
      "execution_count": 17,
      "outputs": []
    },
    {
      "cell_type": "code",
      "source": [
        "error_per_iteration_cache={} #a hashmap is created for storing error as value and iteration count as keys.\n",
        "for i in range(0,iterations): #40 iterations start here.\n",
        "  for m in traindata: # idea is here first P and Q matrices are to be filled for every iteration and error function is computed after P and Q values get filled .\n",
        "    P[m[0]-1]=P[m[0]-1]-(learning_rate*((lamda*P[m[0]-1])-2*(m[2]- np.dot(P[m[0]-1], Q[m[1]-1]))*(Q[m[1]-1]))) #filling of P and Q values iteratively and this two statements are direct translation of given formulas\n",
        "    Q[m[1]-1]=Q[m[1]-1]-(learning_rate*((lamda*Q[m[1]-1])-2*(m[2]- np.dot(P[m[0]-1], Q[m[1]-1]))*(P[m[0]-1]))) \n",
        "  error_per_iteration_cache[i+1]=calculating_error() #filling hashmap according to the comment in the first line of defining hashmap.\n",
        "  #note :- here traindata is numpy array of lists obtained from trainrdd. so every line oth index is user, 1st index is item and 2nd index is orginal rating but for filling in matrix I did by\n",
        "  #P[m[0]-1],Q[m[1]-1] because matrices index starts from 0 not 1 if we do without subtracting by 1 I will be getting array index out of bounds."
      ],
      "metadata": {
        "id": "B6WWeW9WcHsG"
      },
      "execution_count": 18,
      "outputs": []
    },
    {
      "cell_type": "code",
      "source": [
        "iteration_counts=list(error_per_iteration_cache.keys()) # taking keys of hashmap which are iterations as list.\n",
        "error_per_iteration=list(error_per_iteration_cache.values()) # taking values of hashmap into other list."
      ],
      "metadata": {
        "id": "Zdh_gZe3mMZN"
      },
      "execution_count": 19,
      "outputs": []
    },
    {
      "cell_type": "code",
      "source": [
        "plt.plot(iteration_counts, error_per_iteration, label=\"Error function of Latent Factor model\");\n",
        "plt.title(\"Error Function vs iterations count\");\n",
        "plt.xlabel(\"Iterations\"); \n",
        "plt.ylabel(\"Error Function\");               #graphhing between error function value per iteration vs iterations count.\n",
        "plt.legend(loc=0);"
      ],
      "metadata": {
        "colab": {
          "base_uri": "https://localhost:8080/",
          "height": 295
        },
        "id": "hYAa5Or8neRq",
        "outputId": "951bebba-ea79-4061-f308-102e202cfdea"
      },
      "execution_count": 20,
      "outputs": [
        {
          "output_type": "display_data",
          "data": {
            "text/plain": [
              "<Figure size 432x288 with 1 Axes>"
            ],
            "image/png": "[encoded data removed]"
          },
          "metadata": {
            "needs_background": "light"
          }
        }
      ]
    },
    {
      "cell_type": "code",
      "source": [
        "testdataRDD=sc.textFile('/content/test_dataset.csv').map(lambda x :x.split(\",\")) #now for preparing testdata we take it as textfile in rdd and map by splitting with comma."
      ],
      "metadata": {
        "id": "eNyF0VnoLCH0"
      },
      "execution_count": 21,
      "outputs": []
    },
    {
      "cell_type": "code",
      "source": [
        "testdataRDD=testdataRDD.map(lambda x: take_required(x))\n",
        "testdataRDD=testdataRDD.filter(lambda x: x[0]!='user_id') #similar to trainrdd filtering header row, and taking only first 3 columns."
      ],
      "metadata": {
        "id": "7p5zFM8aTYdd"
      },
      "execution_count": 22,
      "outputs": []
    },
    {
      "cell_type": "code",
      "source": [
        "testdataRDD=testdataRDD.map(lambda x: make_int(x)) #making every value as int type from the above function for testdata."
      ],
      "metadata": {
        "id": "nc8gqSwXULS1"
      },
      "execution_count": 23,
      "outputs": []
    },
    {
      "cell_type": "code",
      "source": [
        "testdata=np.array(testdataRDD.collect()) #converting testdata to np array for calculation."
      ],
      "metadata": {
        "id": "MIoBWdPmUxnx"
      },
      "execution_count": 24,
      "outputs": []
    },
    {
      "cell_type": "code",
      "source": [
        "user_all_ratings={user: [] for user in users} #initializing unique user as key and empty list as values."
      ],
      "metadata": {
        "id": "WLUPb6iTVBfV"
      },
      "execution_count": 25,
      "outputs": []
    },
    {
      "cell_type": "code",
      "source": [
        "for i in traindata:\n",
        "  user_all_ratings[i[0]].append(i[2]) #this loop is madesuch that for every unique user there will be list of ratings rated by him as list and appended as value for particular user key."
      ],
      "metadata": {
        "id": "HqPQx0VMd_eD"
      },
      "execution_count": 26,
      "outputs": []
    },
    {
      "cell_type": "code",
      "source": [
        "average_user_rating={} #initializing a dictionary which will be user as key and average of each user rating as value."
      ],
      "metadata": {
        "id": "9WQ7TgCpfBJu"
      },
      "execution_count": 27,
      "outputs": []
    },
    {
      "cell_type": "code",
      "source": [
        "for i in user_all_ratings:\n",
        "  average_user_rating[i]=(sum(user_all_ratings[i])/len(user_all_ratings[i])) #computing average rating for each user."
      ],
      "metadata": {
        "id": "rLzKvS8mfIjl"
      },
      "execution_count": 28,
      "outputs": []
    },
    {
      "cell_type": "code",
      "source": [
        "predicted_ratings=[]\n",
        "actual_ratings=[]\n",
        "for x in testdata:                  \n",
        "  if(x[1] not in items):   # A loop to have predicted ratings, actual ratings for calculation of RMSE.\n",
        "    predicted_ratings.append(average_user_rating[x[0]])  #this if-else block is filling of predicted ratings from either dot product of particular user from P and particular item from Q\n",
        "  else:                                                   #or from hashmap of average rating of user.\n",
        "    predicted_ratings.append(np.dot(P[x[0]-1],Q[x[1]-1]))\n",
        "  actual_ratings.append(x[2]) #here in testdata we take ratings to be actual ratings and it will be 2 nd element of each line from list of list from numpy array."
      ],
      "metadata": {
        "id": "fP6SNKS3gHyE"
      },
      "execution_count": 29,
      "outputs": []
    },
    {
      "cell_type": "code",
      "source": [
        "from sklearn.metrics import mean_squared_error\n",
        "from math import sqrt\n",
        "def RMSE(y_actual, y_predicted):                       #a inbuilt function to calculate rmses of both predicted and actual ratings.\n",
        "  rms = sqrt(mean_squared_error(y_actual, y_predicted))\n",
        "  return round(rms,4)"
      ],
      "metadata": {
        "id": "RFTIh8GlhWVL"
      },
      "execution_count": 30,
      "outputs": []
    },
    {
      "cell_type": "code",
      "source": [
        "RMSE(actual_ratings,predicted_ratings) #calling function for calculating list of predicted and actual ratings."
      ],
      "metadata": {
        "colab": {
          "base_uri": "https://localhost:8080/"
        },
        "id": "M0KdHzDIhgIi",
        "outputId": "1ec6af4d-444a-418b-fe54-819bba531c5d"
      },
      "execution_count": 31,
      "outputs": [
        {
          "output_type": "execute_result",
          "data": {
            "text/plain": [
              "0.9195"
            ]
          },
          "metadata": {},
          "execution_count": 31
        }
      ]
    },
    {
      "cell_type": "code",
      "source": [
        "predicted_ratings1=[]\n",
        "actual_ratings1=[]\n",
        "for x in testdata: #this loop is taking only values from dot product of P and Q of particular user, item  not taking from average rating of per user implying not using any average rating per user.\n",
        "  predicted_ratings1.append(np.dot(P[x[0]-1],Q[x[1]-1]))\n",
        "  actual_ratings1.append(x[2])"
      ],
      "metadata": {
        "id": "wdyCxNunhotP"
      },
      "execution_count": 32,
      "outputs": []
    },
    {
      "cell_type": "code",
      "source": [
        "RMSE(actual_ratings1,predicted_ratings1) #calling again for values which have only from matrices P and Q."
      ],
      "metadata": {
        "colab": {
          "base_uri": "https://localhost:8080/"
        },
        "id": "vf67ijJdiRDw",
        "outputId": "86315d1d-45db-40bc-9777-61cf637b99bf"
      },
      "execution_count": 33,
      "outputs": [
        {
          "output_type": "execute_result",
          "data": {
            "text/plain": [
              "0.9196"
            ]
          },
          "metadata": {},
          "execution_count": 33
        }
      ]
    }
  ]
}