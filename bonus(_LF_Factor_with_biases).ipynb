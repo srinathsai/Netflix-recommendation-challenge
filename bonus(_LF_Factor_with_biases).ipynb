{
  "nbformat": 4,
  "nbformat_minor": 0,
  "metadata": {
    "colab": {
      "provenance": [],
      "collapsed_sections": []
    },
    "kernelspec": {
      "name": "python3",
      "display_name": "Python 3"
    },
    "language_info": {
      "name": "python"
    }
  },
  "cells": [
    {
      "cell_type": "markdown",
      "source": [
        "BY Srinath Sai Tripuraneni :- A20338902."
      ],
      "metadata": {
        "id": "smEaKcMqCgGp"
      }
    },
    {
      "cell_type": "code",
      "execution_count": 1,
      "metadata": {
        "colab": {
          "base_uri": "https://localhost:8080/"
        },
        "id": "MmhwajSg3Nrn",
        "outputId": "e7e66d8f-c67b-419a-d59b-d8acb9f94dd7"
      },
      "outputs": [
        {
          "output_type": "stream",
          "name": "stdout",
          "text": [
            "Looking in indexes: https://pypi.org/simple, https://us-python.pkg.dev/colab-wheels/public/simple/\n",
            "Requirement already satisfied: pyspark in /usr/local/lib/python3.7/dist-packages (3.3.1)\n",
            "Requirement already satisfied: py4j==0.10.9.5 in /usr/local/lib/python3.7/dist-packages (from pyspark) (0.10.9.5)\n"
          ]
        }
      ],
      "source": [
        "!pip install pyspark #installing pyspark because I used pyspark for data filteration."
      ]
    },
    {
      "cell_type": "code",
      "source": [
        "from pyspark import SparkContext, SparkConf\n",
        "import numpy as np                         \n",
        "import matplotlib.pyplot as plt     \n",
        "import math                                           #importing necessary libraries and functions.\n",
        "from numpy.linalg import norm"
      ],
      "metadata": {
        "id": "4YC187uh3aYH"
      },
      "execution_count": 2,
      "outputs": []
    },
    {
      "cell_type": "code",
      "source": [
        "sc = SparkContext(\"local\",\"Assignment-4: LF Model with biases reccomendation\") #initializing spark context "
      ],
      "metadata": {
        "id": "7RlyMPrq3eF4"
      },
      "execution_count": 3,
      "outputs": []
    },
    {
      "cell_type": "code",
      "source": [
        "trainRDD=sc.textFile('/content/training_dataset.csv').map(lambda x:x.split(\",\")) #as our datasets are in csv formatting splitting based on comma with the help of map function.\n"
      ],
      "metadata": {
        "id": "Zp1oNGLJ3qEP"
      },
      "execution_count": 4,
      "outputs": []
    },
    {
      "cell_type": "code",
      "source": [
        "def take_required(x):\n",
        "  required=[]\n",
        "  required.append(x[0])\n",
        "  required.append(x[1]) #Actually our dataset contains movie names also but for rmse that column is not required so filtering only first 3 functions.\n",
        "  required.append(x[2]) #and this function is ownly defined to select first 3 columns.\n",
        "  return required"
      ],
      "metadata": {
        "id": "c1ctb_C_3tkZ"
      },
      "execution_count": 5,
      "outputs": []
    },
    {
      "cell_type": "code",
      "source": [
        "trainRDD=trainRDD.map(lambda x : take_required(x)) #mapping every value by calling above defined function."
      ],
      "metadata": {
        "id": "0e1YllvE37YQ"
      },
      "execution_count": 6,
      "outputs": []
    },
    {
      "cell_type": "code",
      "source": [
        "trainRDD=trainRDD.filter(lambda x : x[0]!='user_id') #in our csv file we get heading specifying which column is what. That headings are not required so filtering heading row."
      ],
      "metadata": {
        "id": "YqygrZGk3-DF"
      },
      "execution_count": 7,
      "outputs": []
    },
    {
      "cell_type": "code",
      "source": [
        "def make_int(x):\n",
        "  ans=[]\n",
        "  for y in x :   #while reading into rdd,it read as text format. so this function is created to convert every row into int append them and will be sent as list.\n",
        "    ans.append(int(y))\n",
        "  return ans"
      ],
      "metadata": {
        "id": "EsfdOgoy4BKI"
      },
      "execution_count": 8,
      "outputs": []
    },
    {
      "cell_type": "code",
      "source": [
        "trainRDD=trainRDD.map(lambda x : make_int(x)) #calling above function which converts every row into int and as a list ,so basically this\n",
        "#is a rdd of list of list containg training dataset information."
      ],
      "metadata": {
        "id": "H0WXdLJl4EeA"
      },
      "execution_count": 9,
      "outputs": []
    },
    {
      "cell_type": "code",
      "source": [
        "userRDD=trainRDD.map(lambda x : (x[0])) #as first column is users taking first column from trainrdd with the help of map function.\n",
        "itemsRDD=trainRDD.map(lambda x: (x[1])) #as second column is items, taking second column from trainrdd with the help of map function.\n",
        "ratingsRDD=trainRDD.map(lambda x : (x[2])) #as third column is items, taking third column from trainrdd with the help of map function.\n",
        "#why this step , you will understand in few minutes."
      ],
      "metadata": {
        "id": "yM0gTz2-4Nka"
      },
      "execution_count": 10,
      "outputs": []
    },
    {
      "cell_type": "code",
      "source": [
        "overal_mean_rating=ratingsRDD.mean() #taking overal_mean of ratings."
      ],
      "metadata": {
        "id": "RVNo_e9H4Zow"
      },
      "execution_count": 11,
      "outputs": []
    },
    {
      "cell_type": "code",
      "source": [
        "max_users=userRDD.max()  #extracting maximum user count means that many users are there in the given dataset at maximum.\n",
        "max_items=itemsRDD.max() #extracting maximum items from items rdd means given dataset has that many items at maximum."
      ],
      "metadata": {
        "id": "v9Aosf4k4spc"
      },
      "execution_count": 12,
      "outputs": []
    },
    {
      "cell_type": "code",
      "source": [
        "users=set(userRDD.collect())  #taking unique users.\n",
        "items=set(itemsRDD.collect()) #taking unique items."
      ],
      "metadata": {
        "id": "fdUe3IrXKctX"
      },
      "execution_count": 13,
      "outputs": []
    },
    {
      "cell_type": "code",
      "source": [
        "traindata=np.array(trainRDD.collect()) #converting trainRDD as numpy array for calculating."
      ],
      "metadata": {
        "id": "6esexNnYLXHV"
      },
      "execution_count": 14,
      "outputs": []
    },
    {
      "cell_type": "code",
      "source": [
        "del trainRDD\n",
        "del userRDD     #deleting all rdds for memory effiency and after converting to numpy array, we won't be using rdds therefore deleting them.\n",
        "del itemsRDD\n",
        "del ratingsRDD"
      ],
      "metadata": {
        "id": "YnEheRy-mTjD"
      },
      "execution_count": 15,
      "outputs": []
    },
    {
      "cell_type": "code",
      "source": [
        "k=25 #given k for P and Q matrices as other dimension.\n",
        "lamda =0.1 #given lamda.\n",
        "iterations=40  # given iteration count.\n",
        "learning_rate=0.002 #this is the challenging factor, as hyper parameter tunning is not allowed, did trial and error process many times and finally got better result of all values which is 0.002.\n",
        "P = np.random.rand(max_users,k)*(np.sqrt(5/k)) #initialing P and Q matrices randomly with dimensions of max_users obtained above and max_items obtained above from 2 rdds.And values in\n",
        "#range 0,rootof 5/k.\n",
        "Q = np.random.rand(max_items,k)*(np.sqrt(5/k)) \n",
        "#link referedd fro intialing random numpy valuse:-\n",
        "#https://stackoverflow.com/questions/26456180/initializing-a-matrix-with-random-number-from-given-range-python"
      ],
      "metadata": {
        "id": "DEXzn1XVYxqG"
      },
      "execution_count": 16,
      "outputs": []
    },
    {
      "cell_type": "code",
      "source": [
        "#here for every user and for every item we will be adding biases in error and regularization so initializing user biases and item biases matices.\n",
        "user_dimensions=(max_users,)\n",
        "item_dimensions=(max_items,)  #dimensions will be maximum users and maximum items for both matrices.\n",
        "biases_of_users=np.zeros(user_dimensions,dtype=np.int32)\n",
        "biases_of_items=np.zeros(item_dimensions,dtype=np.int32) #As a first step initializing zeroes."
      ],
      "metadata": {
        "id": "y11HWpT2Y9pr"
      },
      "execution_count": 17,
      "outputs": []
    },
    {
      "cell_type": "markdown",
      "source": [
        "Actually the idea for lf model and lf model with biases is same for every iteration first we calculate P and Q values and then calculate error function with regularization. But only difference is that here we will update user biases, item biases matrix every time because these also will be updated and needs in error function. \n",
        "Therefore same code that I have coded in LF model has been used here with some modification so same steps but made code more modular for readibility."
      ],
      "metadata": {
        "id": "_FCmjANH1I_Y"
      }
    },
    {
      "cell_type": "code",
      "source": [
        "#link for idea for lf model with biases. :- https://towardsdatascience.com/recsys-series-part-4-the-7-variants-of-matrix-factorization-for-collaborative-filtering-368754e4fab5"
      ],
      "metadata": {
        "id": "DpGSHuyR3XRP"
      },
      "execution_count": 18,
      "outputs": []
    },
    {
      "cell_type": "code",
      "source": [
        "def initial_process(): #This is the initial process of every iteration filling P and Q and user biases matrices, item biases matrices and returning them as tuple.\n",
        "  for x in traindata:\n",
        "    mainpart=x[2]-(learning_rate + biases_of_users[x[0]-1] + biases_of_items[x[1]-1] + np.dot(P[x[0]-1],Q[x[1]-1]))\n",
        "    biases_of_users[x[0]-1]= biases_of_users[x[0]-1] + learning_rate*(mainpart-lamda*(biases_of_users[x[0]-1]))  #filling user biases matrix, item biases matrix by gradient descent algorithm.\n",
        "    biases_of_items[x[1]-1]= biases_of_items[x[1]-1] + learning_rate*(mainpart-lamda*(biases_of_items[x[1]-1]))  #and here we won't get extra part in P and Q .\n",
        "    P[x[0]-1] = P[x[0]-1] + learning_rate*(2*mainpart*(Q[x[1]-1])-lamda*(P[x[0]-1])) #filling of P and Q values iteratively and this two statements are direct translation of given formulas\n",
        "    Q[x[1]-1] = Q[x[1]-1] + learning_rate*(2*mainpart*(P[x[0]-1])-lamda*(Q[x[1]-1]))\n",
        "\n",
        "  return P, Q, biases_of_users, biases_of_items\n"
      ],
      "metadata": {
        "id": "7bylNxRsdqPv"
      },
      "execution_count": 19,
      "outputs": []
    },
    {
      "cell_type": "code",
      "source": [
        "def regularization(): #this function is created to compute regularization for every iteration.\n",
        "  p_norm=0            #this function will return user_norm,items_norm, bias_of every user and bias_of every item.\n",
        "  q_norm=0\n",
        "  user_bias_norm=0\n",
        "  item_bias_norm=0\n",
        "  for i in P:\n",
        "    for j in i:\n",
        "      p_norm+=(j*j)        #this nested loop calculates user_norm by row wise of P matrix(dedicated to users.)\n",
        "  \n",
        "  for x in Q:\n",
        "    for y in x:\n",
        "      q_norm+=(y*y)        #this nested loops calculates items_norm by row wise of Q matrix(dedicated to items).\n",
        "\n",
        "  for b in range(len(biases_of_users)):\n",
        "    user_bias_norm += pow(norm(biases_of_users[b]),2) #this loop calculates norm of every row of bias_of_users because in that matrix every row is a user and those biases are calculated.\n",
        "\n",
        "  for a in range(0,len(biases_of_items)):\n",
        "    item_bias_norm += pow(norm(biases_of_items),2)  #this loop calculates norm of every row of bias_of_items because in that matrix every row is a item and those biases are calculated.\n",
        "    \n",
        "  return p_norm,q_norm,user_bias_norm, item_bias_norm"
      ],
      "metadata": {
        "id": "rILD0gH2nT_7"
      },
      "execution_count": 20,
      "outputs": []
    },
    {
      "cell_type": "code",
      "source": [
        "def calculating_error(): #A function that is used for calculating error for every function.\n",
        "  error_part=0 \n",
        "  for x in traindata:\n",
        "    error_part+=pow(x[2]-(learning_rate + biases_of_users[x[0]-1] + biases_of_items[x[1]-1] + np.dot(P[x[0]-1],Q[x[1]-1])),2) #here x[2] is orginal rating from numpy array of traindata and np.dot(P[x[0]-1],Q[x[1]-1]) is the product of value from P and Q for each row.\n",
        "  user_norm, item_norm, users_bias, items_bias = regularization()                                                             #as biases are also present in formula accesing particular bias of users and biases of items.\n",
        "  error=error_part + lamda*(user_norm + item_norm + users_bias + items_bias) #adding lamda* norms obtained above as shown in main formula.\n",
        "  return error #main error with regularization is returned."
      ],
      "metadata": {
        "id": "uT9DFl7imIyX"
      },
      "execution_count": 21,
      "outputs": []
    },
    {
      "cell_type": "code",
      "source": [
        "error_per_iteration_cache={} #a hashmap is created for storing error as value and iteration count as keys.\n",
        "for i in range(0,iterations):\n",
        "  P,Q,biases_of_users,biases_of_items = initial_process() #initial process of filling of P,Q,user_biases and items_biases matrices are done.\n",
        "  error_per_iteration_cache[i+1] = calculating_error() #error is calculated and updated in hashmap as similar to the comment.\n",
        "\n",
        " "
      ],
      "metadata": {
        "id": "L9RxvWtAc2ch"
      },
      "execution_count": 22,
      "outputs": []
    },
    {
      "cell_type": "code",
      "source": [
        "iteration_counts=list(error_per_iteration_cache.keys()) # taking keys of hashmap which are iterations as list.\n",
        "error_per_iteration=list(error_per_iteration_cache.values()) # taking values of hashmap into other list."
      ],
      "metadata": {
        "id": "TfKZaClqrIfE"
      },
      "execution_count": 23,
      "outputs": []
    },
    {
      "cell_type": "code",
      "source": [
        "plt.plot(iteration_counts, error_per_iteration, label=\"Error function of Latent Factor model\");\n",
        "plt.title(\"Error Function vs iterations count\");\n",
        "plt.xlabel(\"Iterations\"); \n",
        "plt.ylabel(\"Error Function\");                          #graphhing between error function value per iteration vs iterations count.\n",
        "plt.legend(loc=0);"
      ],
      "metadata": {
        "colab": {
          "base_uri": "https://localhost:8080/",
          "height": 295
        },
        "id": "le6MoUb1rM6k",
        "outputId": "e48dc0ed-ac26-47d5-8d3f-7553268f67c9"
      },
      "execution_count": 24,
      "outputs": [
        {
          "output_type": "display_data",
          "data": {
            "text/plain": [
              "<Figure size 432x288 with 1 Axes>"
            ],
            "image/png": "[encoded data removed]"
          },
          "metadata": {
            "needs_background": "light"
          }
        }
      ]
    },
    {
      "cell_type": "code",
      "source": [
        "testdataRDD=sc.textFile('/content/test_dataset.csv').map(lambda x :x.split(\",\"))#now for preparing testdata we take it as textfile in rdd and map by splitting with comma.\n",
        "testdataRDD=testdataRDD.map(lambda x: take_required(x))  \n",
        "testdataRDD=testdataRDD.filter(lambda x: x[0]!='user_id') #similar to trainrdd filtering header row, and taking only first 3 columns.\n",
        "testdataRDD=testdataRDD.map(lambda x: make_int(x))#making every value as int type from the above function for testdata.\n",
        "testdata=np.array(testdataRDD.collect()) #converting testdata to np array for calculation."
      ],
      "metadata": {
        "id": "VTILhfhvrQSW"
      },
      "execution_count": 25,
      "outputs": []
    },
    {
      "cell_type": "code",
      "source": [
        "user_all_ratings={user: [] for user in users} #initializing unique user as key and empty list as values.\n",
        "for i in traindata:\n",
        "  user_all_ratings[i[0]].append(i[2])  #this loop is madesuch that for every unique user there will be list of ratings rated by him as list and appended as value for particular user key.\n",
        "average_user_rating={} #initializing a dictionary which will be user as key and average of each user rating as value.\n",
        "for i in user_all_ratings: \n",
        "  average_user_rating[i]=(sum(user_all_ratings[i])/len(user_all_ratings[i])) #computing average rating for each user.\n"
      ],
      "metadata": {
        "id": "FR6-eMenrhcx"
      },
      "execution_count": 26,
      "outputs": []
    },
    {
      "cell_type": "code",
      "source": [
        "predicted_ratings=[]\n",
        "actual_ratings=[]\n",
        "for x in testdata:  # A loop to have predicted ratings, actual ratings for calculation of RMSE.\n",
        "  if(x[1] not in items):                                    #this if-else block is filling of predicted ratings from either dot product of particular user from P and particular item from Q with biases\n",
        "    predicted_ratings.append(average_user_rating[x[0]])     #or from hashmap of average rating of user.\n",
        "  else:\n",
        "    predicted_ratings.append(learning_rate + biases_of_users[x[0]-1] + biases_of_items[x[1]-1] + np.dot(P[x[0]-1],Q[x[1]-1])) \n",
        "  actual_ratings.append(x[2]) #here in testdata we take ratings to be actual ratings and it will be 2 nd element of each line from list of list from numpy array."
      ],
      "metadata": {
        "id": "-cPDYrqsrx3H"
      },
      "execution_count": 27,
      "outputs": []
    },
    {
      "cell_type": "code",
      "source": [
        "from sklearn.metrics import mean_squared_error\n",
        "from math import sqrt \n",
        "def RMSE(y_actual, y_predicted):                               #a inbuilt function to calculate rmses of both predicted and actual ratings.\n",
        "  rms = sqrt(mean_squared_error(y_actual, y_predicted))\n",
        "  return round(rms,4)"
      ],
      "metadata": {
        "id": "e3TT_cIHr-Rp"
      },
      "execution_count": 28,
      "outputs": []
    },
    {
      "cell_type": "code",
      "source": [
        "RMSE(actual_ratings,predicted_ratings) #calling function for calculating list of predicted and actual ratings."
      ],
      "metadata": {
        "colab": {
          "base_uri": "https://localhost:8080/"
        },
        "id": "Zez34kZcsPQs",
        "outputId": "2223e59d-efc2-4fa9-8e7d-5ec15e09e397"
      },
      "execution_count": 29,
      "outputs": [
        {
          "output_type": "execute_result",
          "data": {
            "text/plain": [
              "0.9171"
            ]
          },
          "metadata": {},
          "execution_count": 29
        }
      ]
    },
    {
      "cell_type": "code",
      "source": [
        "predicted_ratings1=[]\n",
        "actual_ratings1=[]\n",
        "for x in testdata:                            #this loop is taking only values from dot product of P and Q of particular user, item with biases not taking from average rating of per user implying not using any average rating per use\n",
        "  predicted_ratings1.append(learning_rate + biases_of_users[x[0]-1] + biases_of_items[x[1]-1] + np.dot(P[x[0]-1],Q[x[1]-1]))\n",
        "  actual_ratings1.append(x[2])"
      ],
      "metadata": {
        "id": "8faQ29n8sZFv"
      },
      "execution_count": 30,
      "outputs": []
    },
    {
      "cell_type": "code",
      "source": [
        "RMSE(actual_ratings1,predicted_ratings1) #calling again for values which have only from matrices P and Q with biases."
      ],
      "metadata": {
        "colab": {
          "base_uri": "https://localhost:8080/"
        },
        "id": "nOOXp3mCsjCM",
        "outputId": "ad9fb4b5-9a57-455a-95a6-75fe18587de1"
      },
      "execution_count": 31,
      "outputs": [
        {
          "output_type": "execute_result",
          "data": {
            "text/plain": [
              "0.9172"
            ]
          },
          "metadata": {},
          "execution_count": 31
        }
      ]
    },
    {
      "cell_type": "markdown",
      "source": [
        "I have implemented LF model with biases of same parameters used in LF model. \n",
        "\n",
        "IMPORTANT OBSERVATION :-Though LF with biases took more time than LF model, with LF model with biases I observe there is a little bit increse in rmse because in normal LF model rmse is 0.915 above (aprroxly), and in lf model with biases rmse is 0.915 . With better hyper tunning and proper initialization of matrixes, LF with biases will be having less rmse.\n",
        "\n",
        "These values may change for every execution due to random intializations."
      ],
      "metadata": {
        "id": "g2x-LqM5AGKe"
      }
    }
  ]
}